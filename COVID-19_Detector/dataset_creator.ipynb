{
 "cells": [
  {
   "cell_type": "markdown",
   "id": "deluxe-calculator",
   "metadata": {},
   "source": [
    "## Detecting COVID-19 from X-Ray. Training a CNN.\n",
    "\n",
    "_________________________________________________________________________________________________________________\n",
    "Date: 2021-03-01\n",
    "_________________________________________________________________________________________________________________\n",
    "\n",
    "Video: https://www.youtube.com/watch?v=nHQDDAAzIsI\n",
    "\n",
    "Covid X-Ray Image Dataset for positive cases - https://github.com/ieee8023/covid-che...​ \n",
    "\n",
    "Kaggle X-Ray Chest Images for negative cases - https://www.kaggle.com/paultimothymoo...​ \n",
    "\n",
    "_________________________________________________________________________________________________________________\n",
    "\n",
    "In this Jupyter Notebook we are following the tutorial of the video mentioned before to create an image classificator between covid and normal images. The images are obtained from the datasets mentioned before.\n",
    "\n",
    "Before starting to work with the images, it is necessary to download them from the repositories mentioned before."
   ]
  },
  {
   "cell_type": "code",
   "execution_count": 1,
   "id": "stopped-waste",
   "metadata": {},
   "outputs": [],
   "source": [
    "import pandas as pd\n",
    "import os\n",
    "import shutil\n",
    "import random\n",
    "import numpy as np"
   ]
  },
  {
   "cell_type": "markdown",
   "id": "communist-florida",
   "metadata": {},
   "source": [
    "The OS module will be used to create folders and move files in."
   ]
  },
  {
   "cell_type": "code",
   "execution_count": 2,
   "id": "surrounded-birthday",
   "metadata": {},
   "outputs": [],
   "source": [
    "# Create the data for positive samples\n",
    "\n",
    "FILE_PATH = \"Datasets/covid_chestxray_dataset/metadata.csv\"\n",
    "IMAGES_PATH = \"Datasets/covid_chestxray_dataset/images\""
   ]
  },
  {
   "cell_type": "code",
   "execution_count": 3,
   "id": "advance-albany",
   "metadata": {},
   "outputs": [
    {
     "data": {
      "text/html": [
       "<div>\n",
       "<style scoped>\n",
       "    .dataframe tbody tr th:only-of-type {\n",
       "        vertical-align: middle;\n",
       "    }\n",
       "\n",
       "    .dataframe tbody tr th {\n",
       "        vertical-align: top;\n",
       "    }\n",
       "\n",
       "    .dataframe thead th {\n",
       "        text-align: right;\n",
       "    }\n",
       "</style>\n",
       "<table border=\"1\" class=\"dataframe\">\n",
       "  <thead>\n",
       "    <tr style=\"text-align: right;\">\n",
       "      <th></th>\n",
       "      <th>patientid</th>\n",
       "      <th>offset</th>\n",
       "      <th>sex</th>\n",
       "      <th>age</th>\n",
       "      <th>finding</th>\n",
       "      <th>RT_PCR_positive</th>\n",
       "      <th>survival</th>\n",
       "      <th>intubated</th>\n",
       "      <th>intubation_present</th>\n",
       "      <th>went_icu</th>\n",
       "      <th>...</th>\n",
       "      <th>date</th>\n",
       "      <th>location</th>\n",
       "      <th>folder</th>\n",
       "      <th>filename</th>\n",
       "      <th>doi</th>\n",
       "      <th>url</th>\n",
       "      <th>license</th>\n",
       "      <th>clinical_notes</th>\n",
       "      <th>other_notes</th>\n",
       "      <th>Unnamed: 29</th>\n",
       "    </tr>\n",
       "  </thead>\n",
       "  <tbody>\n",
       "    <tr>\n",
       "      <th>0</th>\n",
       "      <td>2</td>\n",
       "      <td>0.0</td>\n",
       "      <td>M</td>\n",
       "      <td>65.0</td>\n",
       "      <td>Pneumonia/Viral/COVID-19</td>\n",
       "      <td>Y</td>\n",
       "      <td>Y</td>\n",
       "      <td>N</td>\n",
       "      <td>N</td>\n",
       "      <td>N</td>\n",
       "      <td>...</td>\n",
       "      <td>January 22, 2020</td>\n",
       "      <td>Cho Ray Hospital, Ho Chi Minh City, Vietnam</td>\n",
       "      <td>images</td>\n",
       "      <td>auntminnie-a-2020_01_28_23_51_6665_2020_01_28_...</td>\n",
       "      <td>10.1056/nejmc2001272</td>\n",
       "      <td>https://www.nejm.org/doi/full/10.1056/NEJMc200...</td>\n",
       "      <td>NaN</td>\n",
       "      <td>On January 22, 2020, a 65-year-old man with a ...</td>\n",
       "      <td>NaN</td>\n",
       "      <td>NaN</td>\n",
       "    </tr>\n",
       "    <tr>\n",
       "      <th>1</th>\n",
       "      <td>2</td>\n",
       "      <td>3.0</td>\n",
       "      <td>M</td>\n",
       "      <td>65.0</td>\n",
       "      <td>Pneumonia/Viral/COVID-19</td>\n",
       "      <td>Y</td>\n",
       "      <td>Y</td>\n",
       "      <td>N</td>\n",
       "      <td>N</td>\n",
       "      <td>N</td>\n",
       "      <td>...</td>\n",
       "      <td>January 25, 2020</td>\n",
       "      <td>Cho Ray Hospital, Ho Chi Minh City, Vietnam</td>\n",
       "      <td>images</td>\n",
       "      <td>auntminnie-b-2020_01_28_23_51_6665_2020_01_28_...</td>\n",
       "      <td>10.1056/nejmc2001272</td>\n",
       "      <td>https://www.nejm.org/doi/full/10.1056/NEJMc200...</td>\n",
       "      <td>NaN</td>\n",
       "      <td>On January 22, 2020, a 65-year-old man with a ...</td>\n",
       "      <td>NaN</td>\n",
       "      <td>NaN</td>\n",
       "    </tr>\n",
       "    <tr>\n",
       "      <th>2</th>\n",
       "      <td>2</td>\n",
       "      <td>5.0</td>\n",
       "      <td>M</td>\n",
       "      <td>65.0</td>\n",
       "      <td>Pneumonia/Viral/COVID-19</td>\n",
       "      <td>Y</td>\n",
       "      <td>Y</td>\n",
       "      <td>N</td>\n",
       "      <td>N</td>\n",
       "      <td>N</td>\n",
       "      <td>...</td>\n",
       "      <td>January 27, 2020</td>\n",
       "      <td>Cho Ray Hospital, Ho Chi Minh City, Vietnam</td>\n",
       "      <td>images</td>\n",
       "      <td>auntminnie-c-2020_01_28_23_51_6665_2020_01_28_...</td>\n",
       "      <td>10.1056/nejmc2001272</td>\n",
       "      <td>https://www.nejm.org/doi/full/10.1056/NEJMc200...</td>\n",
       "      <td>NaN</td>\n",
       "      <td>On January 22, 2020, a 65-year-old man with a ...</td>\n",
       "      <td>NaN</td>\n",
       "      <td>NaN</td>\n",
       "    </tr>\n",
       "    <tr>\n",
       "      <th>3</th>\n",
       "      <td>2</td>\n",
       "      <td>6.0</td>\n",
       "      <td>M</td>\n",
       "      <td>65.0</td>\n",
       "      <td>Pneumonia/Viral/COVID-19</td>\n",
       "      <td>Y</td>\n",
       "      <td>Y</td>\n",
       "      <td>N</td>\n",
       "      <td>N</td>\n",
       "      <td>N</td>\n",
       "      <td>...</td>\n",
       "      <td>January 28, 2020</td>\n",
       "      <td>Cho Ray Hospital, Ho Chi Minh City, Vietnam</td>\n",
       "      <td>images</td>\n",
       "      <td>auntminnie-d-2020_01_28_23_51_6665_2020_01_28_...</td>\n",
       "      <td>10.1056/nejmc2001272</td>\n",
       "      <td>https://www.nejm.org/doi/full/10.1056/NEJMc200...</td>\n",
       "      <td>NaN</td>\n",
       "      <td>On January 22, 2020, a 65-year-old man with a ...</td>\n",
       "      <td>NaN</td>\n",
       "      <td>NaN</td>\n",
       "    </tr>\n",
       "    <tr>\n",
       "      <th>4</th>\n",
       "      <td>4</td>\n",
       "      <td>0.0</td>\n",
       "      <td>F</td>\n",
       "      <td>52.0</td>\n",
       "      <td>Pneumonia/Viral/COVID-19</td>\n",
       "      <td>Y</td>\n",
       "      <td>NaN</td>\n",
       "      <td>N</td>\n",
       "      <td>N</td>\n",
       "      <td>N</td>\n",
       "      <td>...</td>\n",
       "      <td>January 25, 2020</td>\n",
       "      <td>Changhua Christian Hospital, Changhua City, Ta...</td>\n",
       "      <td>images</td>\n",
       "      <td>nejmc2001573_f1a.jpeg</td>\n",
       "      <td>10.1056/NEJMc2001573</td>\n",
       "      <td>https://www.nejm.org/doi/full/10.1056/NEJMc200...</td>\n",
       "      <td>NaN</td>\n",
       "      <td>diffuse infiltrates in the bilateral lower lungs</td>\n",
       "      <td>NaN</td>\n",
       "      <td>NaN</td>\n",
       "    </tr>\n",
       "  </tbody>\n",
       "</table>\n",
       "<p>5 rows × 30 columns</p>\n",
       "</div>"
      ],
      "text/plain": [
       "  patientid  offset sex   age                   finding RT_PCR_positive  \\\n",
       "0         2     0.0   M  65.0  Pneumonia/Viral/COVID-19               Y   \n",
       "1         2     3.0   M  65.0  Pneumonia/Viral/COVID-19               Y   \n",
       "2         2     5.0   M  65.0  Pneumonia/Viral/COVID-19               Y   \n",
       "3         2     6.0   M  65.0  Pneumonia/Viral/COVID-19               Y   \n",
       "4         4     0.0   F  52.0  Pneumonia/Viral/COVID-19               Y   \n",
       "\n",
       "  survival intubated intubation_present went_icu  ...              date  \\\n",
       "0        Y         N                  N        N  ...  January 22, 2020   \n",
       "1        Y         N                  N        N  ...  January 25, 2020   \n",
       "2        Y         N                  N        N  ...  January 27, 2020   \n",
       "3        Y         N                  N        N  ...  January 28, 2020   \n",
       "4      NaN         N                  N        N  ...  January 25, 2020   \n",
       "\n",
       "                                            location  folder  \\\n",
       "0        Cho Ray Hospital, Ho Chi Minh City, Vietnam  images   \n",
       "1        Cho Ray Hospital, Ho Chi Minh City, Vietnam  images   \n",
       "2        Cho Ray Hospital, Ho Chi Minh City, Vietnam  images   \n",
       "3        Cho Ray Hospital, Ho Chi Minh City, Vietnam  images   \n",
       "4  Changhua Christian Hospital, Changhua City, Ta...  images   \n",
       "\n",
       "                                            filename                   doi  \\\n",
       "0  auntminnie-a-2020_01_28_23_51_6665_2020_01_28_...  10.1056/nejmc2001272   \n",
       "1  auntminnie-b-2020_01_28_23_51_6665_2020_01_28_...  10.1056/nejmc2001272   \n",
       "2  auntminnie-c-2020_01_28_23_51_6665_2020_01_28_...  10.1056/nejmc2001272   \n",
       "3  auntminnie-d-2020_01_28_23_51_6665_2020_01_28_...  10.1056/nejmc2001272   \n",
       "4                              nejmc2001573_f1a.jpeg  10.1056/NEJMc2001573   \n",
       "\n",
       "                                                 url  license  \\\n",
       "0  https://www.nejm.org/doi/full/10.1056/NEJMc200...      NaN   \n",
       "1  https://www.nejm.org/doi/full/10.1056/NEJMc200...      NaN   \n",
       "2  https://www.nejm.org/doi/full/10.1056/NEJMc200...      NaN   \n",
       "3  https://www.nejm.org/doi/full/10.1056/NEJMc200...      NaN   \n",
       "4  https://www.nejm.org/doi/full/10.1056/NEJMc200...      NaN   \n",
       "\n",
       "                                      clinical_notes other_notes Unnamed: 29  \n",
       "0  On January 22, 2020, a 65-year-old man with a ...         NaN         NaN  \n",
       "1  On January 22, 2020, a 65-year-old man with a ...         NaN         NaN  \n",
       "2  On January 22, 2020, a 65-year-old man with a ...         NaN         NaN  \n",
       "3  On January 22, 2020, a 65-year-old man with a ...         NaN         NaN  \n",
       "4   diffuse infiltrates in the bilateral lower lungs         NaN         NaN  \n",
       "\n",
       "[5 rows x 30 columns]"
      ]
     },
     "execution_count": 3,
     "metadata": {},
     "output_type": "execute_result"
    }
   ],
   "source": [
    "df = pd.read_csv(FILE_PATH)\n",
    "df.head()"
   ]
  },
  {
   "cell_type": "markdown",
   "id": "material-punch",
   "metadata": {},
   "source": [
    "First we create a new folder called _Dataset_covid_chestxray_, where we will storage the images obtained to do the classification. Inside, we will create a folder called _Covid_."
   ]
  },
  {
   "cell_type": "code",
   "execution_count": 4,
   "id": "completed-settlement",
   "metadata": {},
   "outputs": [],
   "source": [
    "TARGET_DIR = \"Dataset_covid_chestxray/Covid\"\n",
    "\n",
    "if not os.path.exists(TARGET_DIR):\n",
    "    os.mkdir(TARGET_DIR)\n",
    "    print(\"Covid folder created\")"
   ]
  },
  {
   "cell_type": "markdown",
   "id": "ordinary-cleaning",
   "metadata": {},
   "source": [
    "The column _finding_ has the diagnosis. We have images with front view and images from top or side. We need to discard those because we only want front views. This information is in the column _View_.\n",
    "\n",
    "With cnt we can see how many frontal views of covid are there. And we are going to copy the selected images to a new directory."
   ]
  },
  {
   "cell_type": "code",
   "execution_count": 5,
   "id": "loose-wireless",
   "metadata": {},
   "outputs": [
    {
     "name": "stdout",
     "output_type": "stream",
     "text": [
      "196\n"
     ]
    }
   ],
   "source": [
    "cnt = 0\n",
    "\n",
    "for (i,row) in df.iterrows():\n",
    "  if row[\"finding\"] == \"Pneumonia/Viral/COVID-19\" and row[\"view\"] == \"PA\":\n",
    "    filename = row[\"filename\"]\n",
    "    image_path = os.path.join(IMAGES_PATH, filename)\n",
    "    image_copy_path = os.path.join(TARGET_DIR,filename)\n",
    "    shutil.copy2(image_path,image_copy_path)\n",
    "    # print(\"Moving image\", cnt)\n",
    "    cnt += 1\n",
    "\n",
    "print(cnt)"
   ]
  },
  {
   "cell_type": "markdown",
   "id": "increasing-necklace",
   "metadata": {},
   "source": [
    "For the normal images, we will use the kaggle dataset. I want to keep the ratio 50-50, so we want to have the same number of covid images as normal."
   ]
  },
  {
   "cell_type": "code",
   "execution_count": 6,
   "id": "welcome-blair",
   "metadata": {},
   "outputs": [],
   "source": [
    "# Sampling of images from Kaggle dataset (negative samples)\n",
    "\n",
    "KAGGLE_FILE_PATH = \"Datasets/kaggle_datasets/chest_xray_pneumonia/train/NORMAL\"\n",
    "TARGET_NORMAL_DIR = \"Dataset_covid_chestxray/Normal\""
   ]
  },
  {
   "cell_type": "markdown",
   "id": "positive-cassette",
   "metadata": {},
   "source": [
    "We want to move the same number of images as covid, so in this case 196 images. Firstly, I will extract the image names and then I will pick random 196 images."
   ]
  },
  {
   "cell_type": "code",
   "execution_count": 7,
   "id": "funny-samba",
   "metadata": {},
   "outputs": [],
   "source": [
    "image_names = os.listdir(KAGGLE_FILE_PATH)"
   ]
  },
  {
   "cell_type": "code",
   "execution_count": 8,
   "id": "brilliant-going",
   "metadata": {},
   "outputs": [],
   "source": [
    "# Random shuffling\n",
    "random.shuffle(image_names)"
   ]
  },
  {
   "cell_type": "code",
   "execution_count": 9,
   "id": "fossil-happiness",
   "metadata": {},
   "outputs": [
    {
     "data": {
      "text/plain": [
       "196"
      ]
     },
     "execution_count": 9,
     "metadata": {},
     "output_type": "execute_result"
    }
   ],
   "source": [
    "# Number of selected covid front view images\n",
    "cnt"
   ]
  },
  {
   "cell_type": "markdown",
   "id": "arabic-triple",
   "metadata": {},
   "source": [
    "We have shuffled the images so now we will pick the first 196 images."
   ]
  },
  {
   "cell_type": "code",
   "execution_count": 10,
   "id": "hired-circus",
   "metadata": {},
   "outputs": [],
   "source": [
    "for i in range(cnt):\n",
    "    \n",
    "    image_name = image_names[i]\n",
    "    image_path = os.path.join(KAGGLE_FILE_PATH, image_name)\n",
    "    \n",
    "    target_path = os.path.join(TARGET_NORMAL_DIR, image_name)\n",
    "    \n",
    "    shutil.copy2(image_path, target_path)\n",
    "    # print(\"Copying image\", i)"
   ]
  },
  {
   "cell_type": "markdown",
   "id": "frank-navigation",
   "metadata": {},
   "source": [
    "Once we have the dataset ready we can divide the images in training and test. First, we will suffle the images and then we will decide the proportion to use in each dataset."
   ]
  },
  {
   "cell_type": "code",
   "execution_count": 11,
   "id": "previous-advertiser",
   "metadata": {},
   "outputs": [],
   "source": [
    "COVID_FILE_PATH = \"Dataset_covid_chestxray/Covid\"\n",
    "NORMAL_FILE_PATH = \"Dataset_covid_chestxray/Normal\"\n",
    "\n",
    "covid_image_names = os.listdir(COVID_FILE_PATH)\n",
    "normal_image_names = os.listdir(NORMAL_FILE_PATH)\n",
    "\n",
    "# Random shuffling\n",
    "random.shuffle(normal_image_names)\n",
    "random.shuffle(covid_image_names)"
   ]
  },
  {
   "cell_type": "code",
   "execution_count": 12,
   "id": "equivalent-value",
   "metadata": {},
   "outputs": [],
   "source": [
    "# Folders where the train and test data will be placed\n",
    "TRAIN_DIR = \"Dataset_covid_chestxray/train\"\n",
    "TEST_DIR = \"Dataset_covid_chestxray/test\""
   ]
  },
  {
   "cell_type": "markdown",
   "id": "charitable-coordinator",
   "metadata": {},
   "source": [
    "Inside each of this folders will be a folder named _Normal_ and a folder named _Covid_."
   ]
  },
  {
   "cell_type": "code",
   "execution_count": 17,
   "id": "strange-michigan",
   "metadata": {},
   "outputs": [
    {
     "data": {
      "text/plain": [
       "147"
      ]
     },
     "execution_count": 17,
     "metadata": {},
     "output_type": "execute_result"
    }
   ],
   "source": [
    "# Define the cut_id to set the proportion\n",
    "# In this case we will use 0.75 for train and 0.25 for test\n",
    "cut_id = int(0.75*cnt)\n",
    "cut_id"
   ]
  },
  {
   "cell_type": "markdown",
   "id": "saved-cuisine",
   "metadata": {},
   "source": [
    "Now we will divide data for training and testing."
   ]
  },
  {
   "cell_type": "code",
   "execution_count": 19,
   "id": "sufficient-cisco",
   "metadata": {},
   "outputs": [],
   "source": [
    "TARGET_TRAIN_COVID = \"Dataset_covid_chestxray/train/Covid\"   \n",
    "TARGET_TRAIN_NORMAL = \"Dataset_covid_chestxray/train/Normal\"\n",
    "\n",
    "# TRAIN\n",
    "for i in range(cut_id):\n",
    "    \n",
    "    covid_image_name = covid_image_names[i]\n",
    "    normal_image_name = normal_image_names[i]\n",
    "    covid_image_path = os.path.join(COVID_FILE_PATH, covid_image_name)\n",
    "    normal_image_path = os.path.join(NORMAL_FILE_PATH, normal_image_name)\n",
    "    \n",
    "    covid_train_path = os.path.join(TARGET_TRAIN_COVID, covid_image_name)\n",
    "    normal_train_path = os.path.join(TARGET_TRAIN_NORMAL, normal_image_name)\n",
    "    \n",
    "    shutil.copy2(covid_image_path, covid_train_path)\n",
    "    shutil.copy2(normal_image_path, normal_train_path)"
   ]
  },
  {
   "cell_type": "markdown",
   "id": "crucial-glass",
   "metadata": {},
   "source": [
    "We should have the same number of images in train folders than cut_id, in this case 147."
   ]
  },
  {
   "cell_type": "code",
   "execution_count": 32,
   "id": "invalid-facial",
   "metadata": {},
   "outputs": [],
   "source": [
    "TARGET_TEST_COVID = \"Dataset_covid_chestxray/test/Covid\"   \n",
    "TARGET_TEST_NORMAL = \"Dataset_covid_chestxray/test/Normal\"\n",
    "\n",
    "# TEST\n",
    "for i in range(cut_id,cnt):\n",
    "    \n",
    "    covid_image_name = covid_image_names[i]\n",
    "    normal_image_name = normal_image_names[i]\n",
    "    covid_image_path = os.path.join(COVID_FILE_PATH, covid_image_name)\n",
    "    normal_image_path = os.path.join(NORMAL_FILE_PATH, normal_image_name)\n",
    "    \n",
    "    covid_test_path = os.path.join(TARGET_TEST_COVID, covid_image_name)\n",
    "    normal_test_path = os.path.join(TARGET_TEST_NORMAL, normal_image_name)\n",
    "    \n",
    "    shutil.copy2(covid_image_path, covid_test_path)\n",
    "    shutil.copy2(normal_image_path, normal_test_path)"
   ]
  },
  {
   "cell_type": "code",
   "execution_count": 33,
   "id": "posted-flexibility",
   "metadata": {},
   "outputs": [
    {
     "name": "stdout",
     "output_type": "stream",
     "text": [
      "49\n"
     ]
    }
   ],
   "source": [
    "# In test folders we should have the following number of images\n",
    "print(cnt - cut_id)"
   ]
  },
  {
   "cell_type": "markdown",
   "id": "equipped-opportunity",
   "metadata": {},
   "source": [
    "From now on, the rest of the work will be done in google collab to use GPU: https://colab.research.google.com/drive/1OJhPU1IVRQ7QVZic-VaKlQ7xbrgGDzRD?authuser=1#scrollTo=6i76U0XcqBbX"
   ]
  }
 ],
 "metadata": {
  "kernelspec": {
   "display_name": "Python 3",
   "language": "python",
   "name": "python3"
  },
  "language_info": {
   "codemirror_mode": {
    "name": "ipython",
    "version": 3
   },
   "file_extension": ".py",
   "mimetype": "text/x-python",
   "name": "python",
   "nbconvert_exporter": "python",
   "pygments_lexer": "ipython3",
   "version": "3.8.5"
  }
 },
 "nbformat": 4,
 "nbformat_minor": 5
}
